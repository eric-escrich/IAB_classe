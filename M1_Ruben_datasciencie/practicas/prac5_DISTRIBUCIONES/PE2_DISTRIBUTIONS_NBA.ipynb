{
  "cells": [
    {
      "cell_type": "markdown",
      "metadata": {
        "id": "R9lt8bBJSQS1"
      },
      "source": [
        "# PE EVALUABLE: NBA\n",
        "\n",
        "Vamos a aplicar los contenidos aprendidos tratando un caso real, los datos de la NBA de 2022-2023. En este sentido yo voy a proponer diferentes preguntas, pero tenéis total libertad para hacer el análisis que considereis oportuno siempre y cuando se trabajane las diferentes correlaciones.\n",
        "\n",
        "En todos los casos, partiremos de nuestros datos para despúes a través de neustros conocimientos de distribuciones realitzar los cálculos de manera inferencial."
      ]
    },
    {
      "cell_type": "markdown",
      "metadata": {
        "id": "t1QYbsti7htp"
      },
      "source": [
        "## A1: Anàlisis del DataSet\n",
        "\n",
        "Vamos a utilizar el dataSet https://www.nbastuffer.com/2023-2024-nba-player-stats/:\n",
        "\n",
        "* Solo queremos jugadores titulares (más de 25min pp) y que hayan dispustado màs de 10 partidos ¿De cuántos jugadores tenemos datos?\n",
        "* Para nuestro anàlisis no nos interesan todas las columnas. Nos quedaremos únicamente con Nombre, Equipo, Edad, Posición Partidos Jugados, Minutos por partido, Media de puntos, Media rebotes, Media de Pèrdidas, %TL anotados\n"
      ]
    },
    {
      "cell_type": "code",
      "execution_count": 50,
      "metadata": {
        "id": "0OFgOvjfcFy8"
      },
      "outputs": [
        {
          "data": {
            "text/html": [
              "<div>\n",
              "<style scoped>\n",
              "    .dataframe tbody tr th:only-of-type {\n",
              "        vertical-align: middle;\n",
              "    }\n",
              "\n",
              "    .dataframe tbody tr th {\n",
              "        vertical-align: top;\n",
              "    }\n",
              "\n",
              "    .dataframe thead th {\n",
              "        text-align: right;\n",
              "    }\n",
              "</style>\n",
              "<table border=\"1\" class=\"dataframe\">\n",
              "  <thead>\n",
              "    <tr style=\"text-align: right;\">\n",
              "      <th></th>\n",
              "      <th>NAME</th>\n",
              "      <th>TEAM</th>\n",
              "      <th>POS</th>\n",
              "      <th>AGE</th>\n",
              "      <th>GP</th>\n",
              "      <th>MPG</th>\n",
              "      <th>PPG</th>\n",
              "      <th>RPG</th>\n",
              "      <th>TPG</th>\n",
              "      <th>FT%</th>\n",
              "    </tr>\n",
              "  </thead>\n",
              "  <tbody>\n",
              "    <tr>\n",
              "      <th>0</th>\n",
              "      <td>Giannis Antetokounmpo</td>\n",
              "      <td>Mil</td>\n",
              "      <td>F</td>\n",
              "      <td>30.1</td>\n",
              "      <td>32</td>\n",
              "      <td>35.0</td>\n",
              "      <td>31.5</td>\n",
              "      <td>11.9</td>\n",
              "      <td>3.5</td>\n",
              "      <td>0.588</td>\n",
              "    </tr>\n",
              "    <tr>\n",
              "      <th>1</th>\n",
              "      <td>Shai Gilgeous-Alexander</td>\n",
              "      <td>Okc</td>\n",
              "      <td>G</td>\n",
              "      <td>26.5</td>\n",
              "      <td>39</td>\n",
              "      <td>34.4</td>\n",
              "      <td>31.4</td>\n",
              "      <td>5.5</td>\n",
              "      <td>2.7</td>\n",
              "      <td>0.895</td>\n",
              "    </tr>\n",
              "    <tr>\n",
              "      <th>2</th>\n",
              "      <td>Nikola Jokic</td>\n",
              "      <td>Den</td>\n",
              "      <td>C</td>\n",
              "      <td>29.9</td>\n",
              "      <td>34</td>\n",
              "      <td>36.9</td>\n",
              "      <td>30.6</td>\n",
              "      <td>13.2</td>\n",
              "      <td>3.1</td>\n",
              "      <td>0.800</td>\n",
              "    </tr>\n",
              "    <tr>\n",
              "      <th>3</th>\n",
              "      <td>LaMelo Ball</td>\n",
              "      <td>Cha</td>\n",
              "      <td>G</td>\n",
              "      <td>23.4</td>\n",
              "      <td>25</td>\n",
              "      <td>34.0</td>\n",
              "      <td>29.7</td>\n",
              "      <td>5.4</td>\n",
              "      <td>3.9</td>\n",
              "      <td>0.833</td>\n",
              "    </tr>\n",
              "    <tr>\n",
              "      <th>5</th>\n",
              "      <td>Luka Doncic</td>\n",
              "      <td>Dal</td>\n",
              "      <td>F-G</td>\n",
              "      <td>25.9</td>\n",
              "      <td>22</td>\n",
              "      <td>35.7</td>\n",
              "      <td>28.1</td>\n",
              "      <td>8.3</td>\n",
              "      <td>3.4</td>\n",
              "      <td>0.767</td>\n",
              "    </tr>\n",
              "  </tbody>\n",
              "</table>\n",
              "</div>"
            ],
            "text/plain": [
              "                      NAME TEAM  POS   AGE  GP   MPG   PPG   RPG  TPG    FT%\n",
              "0    Giannis Antetokounmpo  Mil    F  30.1  32  35.0  31.5  11.9  3.5  0.588\n",
              "1  Shai Gilgeous-Alexander  Okc    G  26.5  39  34.4  31.4   5.5  2.7  0.895\n",
              "2             Nikola Jokic  Den    C  29.9  34  36.9  30.6  13.2  3.1  0.800\n",
              "3              LaMelo Ball  Cha    G  23.4  25  34.0  29.7   5.4  3.9  0.833\n",
              "5              Luka Doncic  Dal  F-G  25.9  22  35.7  28.1   8.3  3.4  0.767"
            ]
          },
          "execution_count": 50,
          "metadata": {},
          "output_type": "execute_result"
        }
      ],
      "source": [
        "import pandas as pd\n",
        "df_nba = pd.read_csv(\"NBA_Stats.csv\")\n",
        "df_nba = df_nba[(df_nba['MPG'] > 25) & (df_nba['GP'] > 10)]\n",
        "df_nba.describe()\n",
        "df_nba = df_nba[[\"NAME\",\"TEAM\",\"POS\",\"AGE\",\"GP\",\"MPG\",\"PPG\",\"RPG\",\"TPG\", \"FT%\"]]\n",
        "df_nba.head()"
      ]
    },
    {
      "cell_type": "markdown",
      "metadata": {
        "id": "JSFh9wudVZaL"
      },
      "source": [
        "## A2: Anàlisis de la Edad\n",
        "\n",
        "No nos vamos a centrar únicamente en nuestro caso de jugadores, sino que obtendremos estadísiticos básicos para poder realizar cálculo inferencial\n",
        "\n",
        "Tenemos la sensación de que los jugadores cada vez juegan más años, así que que queremos responder a las siguientes preguntas:\n",
        "\n",
        "* ¿Cuál es la probabilidad de que un jugador (de los importantes, filtro inicial) tegan una edad inferior a 23 años?\n",
        "* ¿Cuál es la probabilidad de que un jugador (de los importantes, filtro inicial) tegan una edad superior a 34 años?\n",
        "* ¿Cuál es la probabilidad de que un jugador (de los importantes, filtro inicial) tegan una edad entre 28 a 32 años?\n",
        "* ¿Cuál es la edad a partir de la qual el 90% de los jugadores son menores?\n"
      ]
    },
    {
      "cell_type": "code",
      "execution_count": 51,
      "metadata": {
        "id": "MGBGmVYdYv-E"
      },
      "outputs": [
        {
          "name": "stdout",
          "output_type": "stream",
          "text": [
            "Prob jugador inferior a 23 años: 0.1540710001553277\n",
            "Prob jugador mayor a 23 años: 0.06770606264513801\n",
            "Prob jugador entre 28 a 32 años: 0.06770606264513801\n",
            "Edad a partir de la cual el 90% de los jugadores son menores: 33.07373472669041\n"
          ]
        }
      ],
      "source": [
        "from scipy.stats import norm\n",
        "\n",
        "# a) Probabilidad de que un jugador tenga menos de 23 años\n",
        "mean = df_nba[\"AGE\"].mean()         # Media\n",
        "std_dev = df_nba[\"AGE\"].std()       # Desviación estándar\n",
        "x = 23                              # Tamaño de la muestra\n",
        "prob_edad_inferior_23 = norm.cdf(x, loc=mean, scale=std_dev)\n",
        "\n",
        "# b) Probabilidad de que un jugador tenga más de 34 años\n",
        "mean = df_nba[\"AGE\"].mean()\n",
        "std_dev = df_nba[\"AGE\"].std()\n",
        "x = 34\n",
        "prob_edad_mayor_34 = 1 - norm.cdf(x, loc=mean, scale=std_dev)\n",
        "\n",
        "# c) Probabilidad de que un jugador tenga entre 28 a 32 años\n",
        "mean = df_nba[\"AGE\"].mean()\n",
        "std_dev = df_nba[\"AGE\"].std()\n",
        "x = 34\n",
        "prob_entre_28_32 = 1 - norm.cdf(x, loc=mean, scale=std_dev)\n",
        "\n",
        "# d) Edad a partir de la qual el 90% jugadores son menores\n",
        "mean = df_nba[\"AGE\"].mean()\n",
        "std_dev = df_nba[\"AGE\"].std()\n",
        "x = 0.9\n",
        "edad_90_percentil = norm.ppf(x, loc=mean, scale=std_dev)\n",
        "\n",
        "\n",
        "print(f'Prob jugador inferior a 23 años: {prob_edad_inferior_23}')\n",
        "print(f'Prob jugador mayor a 23 años: {prob_edad_mayor_34}')\n",
        "print(f'Prob jugador entre 28 a 32 años: {prob_entre_28_32}')\n",
        "print(f'Edad a partir de la cual el 90% de los jugadores son menores: {edad_90_percentil}')"
      ]
    },
    {
      "cell_type": "markdown",
      "metadata": {
        "id": "i-for-3FYwUi"
      },
      "source": [
        "Con nuestros datos obervacionales: \n",
        "\n",
        "* Muestra un gràfico BoxPlot diferenciando entre Centers i Guards, y haz una reflexión sobre sus medias y su dispersión.\n",
        "\n",
        "* El Sentido común me dice que cuanta más edad mayor restricción de minutos, eso se cumple, existe una correlación entre esas dos variables?"
      ]
    },
    {
      "cell_type": "code",
      "execution_count": 52,
      "metadata": {
        "id": "0hS5SC9BZvKJ"
      },
      "outputs": [
        {
          "data": {
            "text/plain": [
              "<Figure size 600x400 with 0 Axes>"
            ]
          },
          "metadata": {},
          "output_type": "display_data"
        },
        {
          "data": {
            "image/png": "[encoded data removed]",
            "text/plain": [
              "<Figure size 640x480 with 1 Axes>"
            ]
          },
          "metadata": {},
          "output_type": "display_data"
        },
        {
          "name": "stdout",
          "output_type": "stream",
          "text": [
            "Correlación entre AGE y MPG: 0.10172243683933657\n"
          ]
        }
      ],
      "source": [
        "import matplotlib.pyplot as plt\n",
        "\n",
        "df_filtered = df_nba[df_nba[\"POS\"].isin([\"C\", \"G\"])]\n",
        "\n",
        "plt.figure(figsize=(6,4))\n",
        "df_filtered.boxplot(column=\"PPG\", by=\"POS\")\n",
        "plt.title(\"BoxPlot de Puntuación por Posición\")\n",
        "plt.suptitle(\"\")\n",
        "plt.xlabel(\"Posición\")\n",
        "plt.ylabel(\"Puntos por partido\")\n",
        "plt.show()\n",
        "\n",
        "# Reflexión:\n",
        "# Los Guards (G) tienen una media de puntuación más alta y una mayor dispersión, lo que refleja su rol ofensivo y variabilidad en el rendimiento.\n",
        "# Los Centers (C) muestran menor dispersión y una media más baja, indicando un desempeño más consistente pero menos destacado en la anotación.\n",
        "\n",
        "\n",
        "corr_age_mpg = df_nba[\"AGE\"].corr(df_nba[\"MPG\"])\n",
        "print(f\"Correlación entre AGE y MPG: {corr_age_mpg}\")\n",
        "\n",
        "# Reflexión:\n",
        "# La edad no parece ser un factor significativo en la restricción de minutos porque la correlación entre la edad y los minutos por partido es muy baja (0.1)"
      ]
    },
    {
      "cell_type": "markdown",
      "metadata": {
        "id": "Eltoe7RhZvYt"
      },
      "source": [
        "## A2: Triples de Lebron\n",
        "\n",
        "Parece que este año lebron  está bastante acertado en el triple. Suponiendo que tirara 5 triples por partido, responde a las siguientes preguntas:\n",
        "\n",
        "* ¿Cuál es la probabilidad de que no meta ninguno?\n",
        "* ¿Cuál es la probabilidad de que los meta todos?"
      ]
    },
    {
      "cell_type": "code",
      "execution_count": 53,
      "metadata": {
        "id": "hGa3WBzwbKZj"
      },
      "outputs": [
        {
          "name": "stdout",
          "output_type": "stream",
          "text": [
            "Porcentaje de triples de LeBron: 39.80%\n",
            "Prob no meter ninguno: 7.906467%\n",
            "Prob meter todos: 0.998655%\n"
          ]
        }
      ],
      "source": [
        "\n",
        "from scipy.stats import binom, poisson\n",
        "from nba_api.stats.endpoints import playercareerstats\n",
        "\n",
        "lebron_id = 2544\n",
        "\n",
        "lebron_career = playercareerstats.PlayerCareerStats(player_id=lebron_id)\n",
        "career_stats = lebron_career.get_data_frames()[0]\n",
        "\n",
        "current_season_stats = career_stats[career_stats['SEASON_ID'] == '2024-25']\n",
        "\n",
        "# Obtener el porcentaje de triples\n",
        "p = current_season_stats['FG3_PCT'].values[0]\n",
        "print(f\"Porcentaje de triples de LeBron: {p:.2%}\")\n",
        "\n",
        "n = 5\n",
        "prob_ninguno = binom.pmf(0, n, p)\n",
        "prob_todos = binom.pmf(n, n, p)\n",
        "\n",
        "print(f'Prob no meter ninguno: {prob_ninguno:%}')\n",
        "print(f'Prob meter todos: {prob_todos:%}')\n"
      ]
    },
    {
      "cell_type": "markdown",
      "metadata": {
        "id": "A6M8AORsbKjL"
      },
      "source": [
        "\n",
        "Muestra su función de distribución acumulada empírica y responde las siguientes preguntas:\n",
        "\n",
        "* ¿Cuál es la probabilidad de que meta uno o menos? (Partido de poco acierto)\n",
        "* ¿Cuál es la probabilidad de que meta tres o màs? (Partido de mucho acierto)"
      ]
    },
    {
      "cell_type": "code",
      "execution_count": 54,
      "metadata": {
        "id": "SAMz7sl2dUQA"
      },
      "outputs": [
        {
          "name": "stdout",
          "output_type": "stream",
          "text": [
            "Prob uno o menos: 34.042462%\n",
            "Prob tres o mas: 31.398980%\n"
          ]
        }
      ],
      "source": [
        "prob_uno_o_menos = binom.cdf(1, n, p)\n",
        "prob_tres_o_mas = 1 - binom.cdf(2, n, p)\n",
        "\n",
        "print(f'Prob uno o menos: {prob_uno_o_menos:%}')\n",
        "print(f'Prob tres o mas: {prob_tres_o_mas:%}')"
      ]
    },
    {
      "cell_type": "markdown",
      "metadata": {
        "id": "G8Pl-BOSdGTe"
      },
      "source": [
        "## A3 Picadas de Lebron tirando triples\n",
        "\n",
        "Para hacer este apartado necesitamos el número de triples que se ha tirado lebron en cada partido. Tienes dos opciones:\n",
        "* Dummy: Mirarlo manualmente y crear un array a mano\n",
        "* Upgrade: Llamar a la api https://www.balldontlie.io/ (Stats) y obtener los datos\n",
        "\n"
      ]
    },
    {
      "cell_type": "markdown",
      "metadata": {
        "id": "_nX1SX8mez85"
      },
      "source": [
        "Muestra en un histograma los triples lanzados por lebron, en cuàntos partidos ha lanzado 5 o más?"
      ]
    },
    {
      "cell_type": "code",
      "execution_count": 55,
      "metadata": {
        "id": "HYMW-t4Eew2t"
      },
      "outputs": [
        {
          "name": "stderr",
          "output_type": "stream",
          "text": [
            "D:\\Temp\\ipykernel_5456\\2412426309.py:10: UserWarning: Could not infer format, so each element will be parsed individually, falling back to `dateutil`. To ensure parsing is consistent and as-expected, please specify a format.\n",
            "  game_log_df['GAME_DATE'] = pd.to_datetime(game_log_df['GAME_DATE'])\n"
          ]
        },
        {
          "data": {
            "image/png": "[encoded data removed]",
            "text/plain": [
              "<Figure size 1000x600 with 1 Axes>"
            ]
          },
          "metadata": {},
          "output_type": "display_data"
        }
      ],
      "source": [
        "from nba_api.stats.endpoints import playergamelog\n",
        "\n",
        "game_log = playergamelog.PlayerGameLog(player_id=lebron_id, season='2024-25')\n",
        "game_log_df = game_log.get_data_frames()[0]\n",
        "\n",
        "# cogemos solo la fecha y los triples realizados\n",
        "game_log_df = game_log_df[['GAME_DATE', 'FG3A']]\n",
        "\n",
        "# Convertir la columna 'GAME_DATE' a formato datetime\n",
        "game_log_df['GAME_DATE'] = pd.to_datetime(game_log_df['GAME_DATE'])\n",
        "# Ordenar por fecha\n",
        "game_log_df = game_log_df.sort_values('GAME_DATE')\n",
        "\n",
        "plt.figure(figsize=(10, 6))\n",
        "plt.hist(game_log_df['FG3A'], bins=range(0, int(game_log_df['FG3A'].max()) + 1, 1), edgecolor='black')\n",
        "plt.title('Distribución de triples lanzados por LeBron James en la temporada 2024-2025')\n",
        "plt.xlabel('Número de triples lanzados')\n",
        "plt.ylabel('Frecuencia')\n",
        "plt.grid(True)\n",
        "plt.show()"
      ]
    },
    {
      "cell_type": "markdown",
      "metadata": {
        "id": "7zEs2XDvfjeY"
      },
      "source": [
        "A partir de estos datos, vamos a hacer cálculo inferencial imaginando que juega infinitos partidos. Respondemos a la siguientes preguntas:\n",
        "\n",
        "* ¿Cuál es la probabilidad de que lebron se tire 5 o más triples por partido?\n",
        "* Como entrenador le he recomendado que tire 3 triples por partido, ¿cuál es la probabilidad de que eso suceda?"
      ]
    },
    {
      "cell_type": "code",
      "execution_count": 56,
      "metadata": {
        "id": "P_94mBF8fiXW"
      },
      "outputs": [
        {
          "name": "stdout",
          "output_type": "stream",
          "text": [
            "Probabilidad de que tire 5 o más triples (usando normal): 0.03%\n",
            "Probabilidad de que tire exactamente 3 triples (usando normal): 13.55%\n"
          ]
        }
      ],
      "source": [
        "from nba_api.stats.endpoints import leagueleaders\n",
        "from scipy.stats import norm\n",
        "import numpy as np\n",
        "\n",
        "# Paso 1: Obtener el porcentaje promedio de triples de los jugadores\n",
        "leaders = leagueleaders.LeagueLeaders()\n",
        "leaders_df = leaders.get_data_frames()[0]\n",
        "\n",
        "# Calcular el promedio de FG3_PCT (porcentaje de triples)\n",
        "average_3p_percentage = leaders_df[\"FG3_PCT\"].mean()\n",
        "p = average_3p_percentage  # Probabilidad de éxito en un intento\n",
        "\n",
        "# Paso 2: Aproximar la distribución binomial con una normal\n",
        "n = 5  # Número de intentos en un partido\n",
        "mu = n * p  # Media\n",
        "sigma = np.sqrt(n * p * (1 - p))  # Desviación estándar\n",
        "\n",
        "# Paso 3: Calcular probabilidades con la distribución normal\n",
        "\n",
        "# a) Probabilidad de que tire 5 o más triples (P(X >= 5))\n",
        "prob_tira_5_o_mas = 1 - norm.cdf(5, mu, sigma)\n",
        "\n",
        "# b) Probabilidad de que tire exactamente 3 triples (P(X = 3)) - Aproximación\n",
        "# Usamos la aproximación de la normal y calculamos la probabilidad en el rango [2.5, 3.5]\n",
        "prob_tira_3 = norm.cdf(3.5, mu, sigma) - norm.cdf(2.5, mu, sigma)\n",
        "\n",
        "# Mostrar resultados\n",
        "print(f\"Probabilidad de que tire 5 o más triples (usando normal): {prob_tira_5_o_mas:.2%}\")\n",
        "print(f\"Probabilidad de que tire exactamente 3 triples (usando normal): {prob_tira_3:.2%}\")\n"
      ]
    },
    {
      "cell_type": "markdown",
      "metadata": {
        "id": "32SZGk2-hD5X"
      },
      "source": [
        "## A4 Tiempo entre lanzamiento\n",
        "\n",
        "Lebron se tira un triple en promedio cada 12 minutos jugados en pista. Responde las siguientes preguntas:\n",
        "\n",
        "* ¿Cuál és la probabilidad de que pase màs de 20 min sin tirarse un triple?\n",
        "* ¿Cuál és la probabilidad de que se tire un triple entre el min 8 y 15min después del lanzamiento de triple anterior?"
      ]
    },
    {
      "cell_type": "code",
      "execution_count": 57,
      "metadata": {},
      "outputs": [
        {
          "name": "stdout",
          "output_type": "stream",
          "text": [
            "Probabilidad de que pase más de 20 minutos sin tirarse un triple: 18.89%\n",
            "Probabilidad de que se tire un triple entre el minuto 8 y 15: 22.69%\n"
          ]
        }
      ],
      "source": [
        "import numpy as np\n",
        "from scipy.stats import expon\n",
        "\n",
        "# Tasa de ocurrencia (lambda) en minutos\n",
        "lambda_ = 1 / 12  # Un triple cada 12 minutos en promedio\n",
        "\n",
        "# 1. Probabilidad de que pase más de 20 minutos sin tirarse un triple\n",
        "prob_mas_20_min = expon.sf(20, scale=1/lambda_)\n",
        "\n",
        "# 2. Probabilidad de que se tire un triple entre el minuto 8 y 15\n",
        "prob_entre_8_y_15 = expon.cdf(15, scale=1/lambda_) - expon.cdf(8, scale=1/lambda_)\n",
        "\n",
        "# Mostrar los resultados\n",
        "print(f\"Probabilidad de que pase más de 20 minutos sin tirarse un triple: {prob_mas_20_min:.2%}\")\n",
        "print(f\"Probabilidad de que se tire un triple entre el minuto 8 y 15: {prob_entre_8_y_15:.2%}\")\n"
      ]
    }
  ],
  "metadata": {
    "colab": {
      "provenance": []
    },
    "kernelspec": {
      "display_name": "venv",
      "language": "python",
      "name": "python3"
    },
    "language_info": {
      "codemirror_mode": {
        "name": "ipython",
        "version": 3
      },
      "file_extension": ".py",
      "mimetype": "text/x-python",
      "name": "python",
      "nbconvert_exporter": "python",
      "pygments_lexer": "ipython3",
      "version": "3.12.6"
    }
  },
  "nbformat": 4,
  "nbformat_minor": 0
}
