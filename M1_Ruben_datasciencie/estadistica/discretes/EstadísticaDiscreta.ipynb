{
  "cells": [
    {
      "cell_type": "markdown",
      "metadata": {},
      "source": [
        "# Binom\n",
        "Describe el número de éxitos en un número fijo de ensayos independientes, donde cada ensayo tiene dos posibles resultados (éxito o fracaso) y una probabilidad fija de éxito p\n",
        "- p = probabilidad\n",
        "- n = número ensayos\n",
        "- k = éxitos\n",
        "- size = cantidad de datos a generar\n",
        "### pmf\n",
        "probabilidad de que ocurran exactamente k éxitos en n ensayos\n",
        "  \n",
        "binom.pmf(k, n, p)\n",
        "### cdf\n",
        "probabilidad acumulada de tener hasta k éxitos\n",
        "\n",
        "binom.cdf(k, n,p)\n",
        "### rvs\n",
        "Genera datos aleatorios siguiendo una distribución binomial con los parámetros dados\n",
        "\n",
        "binom.rvs(n, p, size)\n",
        "\n",
        "# Poisson\n",
        "Mide el número de eventos que ocurren en un intervalo de tiempo o espacio fijo, suponiendo que los eventos ocurren con una tasa promedio\n",
        "- mu = tasa promedio\n",
        "- k = número de eventos\n",
        "- size = cantidad de datos a generar\n",
        "### pmf\n",
        "probabilidad de que ocurran exactamente k eventos en un intervalo\n",
        "\n",
        "poisson.pmf(k, mu)\n",
        "### cdf\n",
        "probabilidad acumulada de que ocurran hasta k eventos\n",
        "\n",
        "poisson.cdf(k, mu)\n",
        "### rvs\n",
        "Genera datos aleatorios siguiendo una distribución de Poisson\n",
        "\n",
        "poisson.rvs(mu, size)"
      ]
    },
    {
      "cell_type": "code",
      "execution_count": 1,
      "metadata": {},
      "outputs": [],
      "source": [
        "import pandas as pd\n",
        "import numpy as np\n",
        "from scipy.stats import binom, poisson"
      ]
    },
    {
      "cell_type": "markdown",
      "metadata": {
        "id": "oodZ4Bpkknaq"
      },
      "source": [
        "**Ejercicio 1**\n",
        "\n",
        "Se reparten unas invitaciones sabiendo que el  40 %  de los invitados asistirán al acto. Se seleccionan al azar  10  invitados. Calcula :\n",
        "a)    La probabilidad de que solo tres acudan al acto.\n",
        "b)    La probabilidad de que acudan más de tres."
      ]
    },
    {
      "cell_type": "code",
      "execution_count": 3,
      "metadata": {
        "id": "WLJWXE3Kkusu"
      },
      "outputs": [
        {
          "name": "stdout",
          "output_type": "stream",
          "text": [
            "a) Probabilidad de que solo tres acudan al acto:  0.21499084799999987\n",
            "b) Probabilidad de que acudan más de tres:  0.6177193984\n"
          ]
        }
      ],
      "source": [
        "p = 0.4\n",
        "n = 10\n",
        "\n",
        "prob_a = binom.pmf(k=3, n=n, p=p)\n",
        "prob_b = 1 - binom.cdf(3, n, p)\n",
        "\n",
        "print('a) Probabilidad de que solo tres acudan al acto: ', prob_a)\n",
        "print('b) Probabilidad de que acudan más de tres: ', prob_b) "
      ]
    },
    {
      "cell_type": "markdown",
      "metadata": {
        "id": "K4pnG8Dop0A1"
      },
      "source": [
        "**Ejericio 2**\n",
        "A una central telefónica ingresan llamadas a un\n",
        "ritmo de 6 por minuto. Calcular la probabilidad de\n",
        "que, en un intervalo de 0,5 minutos, se reciba al\n",
        "menos 1 llamada"
      ]
    },
    {
      "cell_type": "code",
      "execution_count": 4,
      "metadata": {
        "id": "bbdnBd7UmDl2"
      },
      "outputs": [
        {
          "name": "stdout",
          "output_type": "stream",
          "text": [
            "Probabilidad de recibir al menos 1 llamada:  0.9999938557876467\n"
          ]
        }
      ],
      "source": [
        "mu = 6/0.5\n",
        "\n",
        "prob_min_1 = 1 - poisson.pmf(0, mu)\n",
        "\n",
        "print('Probabilidad de recibir al menos 1 llamada: ', prob_min_1)"
      ]
    },
    {
      "cell_type": "markdown",
      "metadata": {
        "id": "hRhiWAXamEBx"
      },
      "source": [
        "**Ejercicio 3**\n",
        "\n",
        "Un jugador de basketball, anota 7 de cada 10 tiros libres que ejecuta. Si durante un partido, ejecuta 9 tiros libros hallar la probabilidad:\n",
        "- a) que falle 3 tiros libres\n",
        "- b) que anote todos\n",
        "- c) que anote exactamente 5 tiros"
      ]
    },
    {
      "cell_type": "code",
      "execution_count": 10,
      "metadata": {
        "id": "zXQmcbQJncdv"
      },
      "outputs": [
        {
          "name": "stdout",
          "output_type": "stream",
          "text": [
            "Probabilidad de que fallen 3:  0.26682793200000016\n",
            "Probabilidad de que meta todos:  0.04035360699999997\n",
            "Probabilidad de que meta 5:  0.1715322420000001\n"
          ]
        }
      ],
      "source": [
        "p = 0.7\n",
        "n = 9\n",
        "\n",
        "falle_3 = binom.pmf(3, n, 1 - p)\n",
        "mete_todos = binom.pmf(9, n, p)\n",
        "mete_5 = binom.pmf(5, n, p)\n",
        "\n",
        "print('Probabilidad de que fallen 3: ', falle_3)\n",
        "print('Probabilidad de que meta todos: ', mete_todos)\n",
        "print('Probabilidad de que meta 5: ', mete_5)"
      ]
    },
    {
      "cell_type": "markdown",
      "metadata": {
        "id": "OoUumsNdncou"
      },
      "source": [
        "**Ejercicio 4**\n",
        "\n",
        "Las llamadas de servicio entran a un centro de atencion al cliente. En promedio entran 2.7 llamadas por minuto. encontrar la probabilidad de que:\n",
        "- a) Ninguna llamada\n",
        "- b)no mas de 4 llamadas entren en un minuto cualquiera\n",
        "- c)menos de 2 llamadas entren en un minutocualquiera\n",
        "- d)mas de 10 llamadas entren en un periodo de 5 minutos"
      ]
    },
    {
      "cell_type": "code",
      "execution_count": 14,
      "metadata": {
        "id": "U3r13TDlnuwK"
      },
      "outputs": [
        {
          "name": "stdout",
          "output_type": "stream",
          "text": [
            "Probabilidad de que no llegue ninguna:  0.06720551273974976\n",
            "Probabilidad de que no lleguen más de 4:  0.8629078626825668\n",
            "Probabilidad de que lleguen menos de 2:  0.24866039713707408\n",
            "Probabilidad de que lleguen más de 10:  0.7887735230627304\n"
          ]
        }
      ],
      "source": [
        "mu = 2.7 / 1\n",
        "\n",
        "ninguna = poisson.pmf(0, mu)\n",
        "no_mas_de_4 = poisson.cdf(4, mu)\n",
        "menos_de_2 = poisson.cdf(1, mu)\n",
        "mas_de_10 = 1 - poisson.cdf(10, mu*5)\n",
        "\n",
        "print('Probabilidad de que no llegue ninguna: ', ninguna)\n",
        "print('Probabilidad de que no lleguen más de 4: ', no_mas_de_4)\n",
        "print('Probabilidad de que lleguen menos de 2: ', menos_de_2)\n",
        "print('Probabilidad de que lleguen más de 10: ', mas_de_10)"
      ]
    },
    {
      "cell_type": "markdown",
      "metadata": {
        "id": "Fg1NG6p_nxSt"
      },
      "source": [
        "**Ejericicio 5**\n",
        "El número de solicitudes de ayuda recibidas por un\n",
        "servicio de grúas es de reciben 4 llamadas por hora.\n",
        "a) Calcule la probabilidad de que exactamente 10\n",
        "solicitudes sean recibidas durante un período\n",
        "particular de 2 horas.\n",
        "b) Si los operadores de servicio de grúas hacen una\n",
        "pausa de 30 minutos para la cena, ¿cuál es la\n",
        "probabilidad de que no dejen de atender las llamadas\n",
        "de auxilio?\n"
      ]
    },
    {
      "cell_type": "code",
      "execution_count": null,
      "metadata": {
        "id": "s3Zm8VRhpyQK"
      },
      "outputs": [],
      "source": []
    },
    {
      "cell_type": "markdown",
      "metadata": {
        "id": "4Frd3mS4k03C"
      },
      "source": [
        "**Ejercicio 6**\n",
        "\n",
        " En un sistema bancario, 10% de las veces se excede el tiempo promedio de atención al cliente. Para los siguientes 10 clientes encuentra:\n",
        "a. La probabilidad de que al menos 6 excedan el tiempo promedio de atención.\n",
        "b. Haya clientes que excedan el tiempo promedio de atención.\n",
        "c. Más de dos y menos de 7 excedan este tiempo.\n",
        "d. La probabilidad de que menos de 5 excedan el tiempo de atención."
      ]
    },
    {
      "cell_type": "code",
      "execution_count": null,
      "metadata": {
        "id": "REj1o8ZPpy4f"
      },
      "outputs": [],
      "source": []
    }
  ],
  "metadata": {
    "colab": {
      "provenance": []
    },
    "kernelspec": {
      "display_name": "venv",
      "language": "python",
      "name": "python3"
    },
    "language_info": {
      "codemirror_mode": {
        "name": "ipython",
        "version": 3
      },
      "file_extension": ".py",
      "mimetype": "text/x-python",
      "name": "python",
      "nbconvert_exporter": "python",
      "pygments_lexer": "ipython3",
      "version": "3.12.6"
    }
  },
  "nbformat": 4,
  "nbformat_minor": 0
}
