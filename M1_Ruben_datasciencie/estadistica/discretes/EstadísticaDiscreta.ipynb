{
 "cells": [
  {
   "cell_type": "code",
   "execution_count": 1,
   "metadata": {},
   "outputs": [],
   "source": [
    "import numpy as np\n",
    "from scipy.stats import binom\n",
    "from scipy.stats import poisson"
   ]
  },
  {
   "cell_type": "markdown",
   "metadata": {
    "id": "oodZ4Bpkknaq"
   },
   "source": [
    "**Ejercicio 1**\n",
    "\n",
    "Se reparten unas invitaciones sabiendo que el  40 %  de los invitados asistirán al acto. Se seleccionan al azar  10  invitados. Calcula :\n",
    "a)    La probabilidad de que solo tres acudan al acto.\n",
    "b)    La probabilidad de que acudan más de tres."
   ]
  },
  {
   "cell_type": "code",
   "execution_count": 3,
   "metadata": {
    "id": "WLJWXE3Kkusu"
   },
   "outputs": [
    {
     "name": "stdout",
     "output_type": "stream",
     "text": [
      "a) La probabilidad de que solo tres acudan al acto:  0.21499084799999987\n",
      "b) La probabilidad de que acudan más de tres:  0.6177193984\n"
     ]
    }
   ],
   "source": [
    "p = 0.4\n",
    "n = 10\n",
    "\n",
    "prob_a = binom.pmf(k=3, n=n, p=p)\n",
    "prob_b = 1 - binom.cdf(3, n, p)\n",
    "\n",
    "print('a) La probabilidad de que solo tres acudan al acto: ', prob_a)\n",
    "print('b) La probabilidad de que acudan más de tres: ', prob_b)"
   ]
  },
  {
   "cell_type": "markdown",
   "metadata": {
    "id": "K4pnG8Dop0A1"
   },
   "source": [
    "**Ejericio 2**\n",
    "A una central telefónica ingresan llamadas a un\n",
    "ritmo de 6 por minuto. Calcular la probabilidad de\n",
    "que, en un intervalo de 0,5 minutos, se reciba al\n",
    "menos 1 llamada\n"
   ]
  },
  {
   "cell_type": "code",
   "execution_count": null,
   "metadata": {
    "id": "bbdnBd7UmDl2"
   },
   "outputs": [
    {
     "name": "stdout",
     "output_type": "stream",
     "text": [
      "Probabilidad de recibir al menos 1 llamada:  0.950212931632136\n"
     ]
    }
   ],
   "source": [
    "p = (6/1) * 0.5\n",
    "\n",
    "prob_al_menos_1 = 1 - poisson.pmf(0, p)\n",
    "\n",
    "print('Probabilidad de recibir al menos 1 llamada: ', prob_al_menos_1)"
   ]
  },
  {
   "cell_type": "markdown",
   "metadata": {
    "id": "hRhiWAXamEBx"
   },
   "source": [
    "**Ejercicio 3**\n",
    "\n",
    "Un jugador de basketball, anota 7 de cada 10 tiros libresque ejecuta. Si durante un partido, ejecuta 9 tiros libros hallar la probabilidad:\n",
    "\n",
    "a)que falle 3 tiros libres\n",
    "b)que anote todos\n",
    "c) que anote exactamente 5 tiros"
   ]
  },
  {
   "cell_type": "code",
   "execution_count": null,
   "metadata": {
    "id": "zXQmcbQJncdv"
   },
   "outputs": [],
   "source": []
  },
  {
   "cell_type": "markdown",
   "metadata": {
    "id": "OoUumsNdncou"
   },
   "source": [
    "**Ejercicio 4**\n",
    "\n",
    "Las llamadas de servicio entran A un centro de atencion al cliente en promedio entran 2.7 llamadas por minuto. encontrar la probabilidad de que:\n",
    "a) Ninguna llamada\n",
    "b)no mas de 4 llamadas entren en un minuto cualquiera\n",
    "c)menos de 2 llamadas entren en un minutocualquiera\n",
    "d)mas de 10 llamadas entren en un periodo de 5 minutos"
   ]
  },
  {
   "cell_type": "code",
   "execution_count": null,
   "metadata": {
    "id": "U3r13TDlnuwK"
   },
   "outputs": [],
   "source": []
  },
  {
   "cell_type": "markdown",
   "metadata": {
    "id": "Fg1NG6p_nxSt"
   },
   "source": [
    "**Ejericicio 5**\n",
    "El número de solicitudes de ayuda recibidas por un\n",
    "servicio de grúas es de reciben 4 llamadas por hora.\n",
    "a) Calcule la probabilidad de que exactamente 10\n",
    "solicitudes sean recibidas durante un período\n",
    "particular de 2 horas.\n",
    "b) Si los operadores de servicio de grúas hacen una\n",
    "pausa de 30 minutos para la cena, ¿cuál es la\n",
    "probabilidad de que no dejen de atender las llamadas\n",
    "de auxilio?\n"
   ]
  },
  {
   "cell_type": "code",
   "execution_count": null,
   "metadata": {
    "id": "s3Zm8VRhpyQK"
   },
   "outputs": [],
   "source": []
  },
  {
   "cell_type": "markdown",
   "metadata": {
    "id": "4Frd3mS4k03C"
   },
   "source": [
    "**Ejercicio 6**\n",
    "\n",
    " En un sistema bancario, 10% de las veces se excede el tiempo promedio de atención al cliente. Para los siguientes 10 clientes encuentra:\n",
    "a. La probabilidad de que al menos 6 excedan el tiempo promedio de atención.\n",
    "b. Haya clientes que excedan el tiempo promedio de atención.\n",
    "c. Más de dos y menos de 7 excedan este tiempo.\n",
    "d. La probabilidad de que menos de 5 excedan el tiempo de atención."
   ]
  },
  {
   "cell_type": "code",
   "execution_count": null,
   "metadata": {
    "id": "REj1o8ZPpy4f"
   },
   "outputs": [],
   "source": []
  }
 ],
 "metadata": {
  "colab": {
   "provenance": []
  },
  "kernelspec": {
   "display_name": "venv",
   "language": "python",
   "name": "python3"
  },
  "language_info": {
   "codemirror_mode": {
    "name": "ipython",
    "version": 3
   },
   "file_extension": ".py",
   "mimetype": "text/x-python",
   "name": "python",
   "nbconvert_exporter": "python",
   "pygments_lexer": "ipython3",
   "version": "3.12.6"
  }
 },
 "nbformat": 4,
 "nbformat_minor": 0
}
