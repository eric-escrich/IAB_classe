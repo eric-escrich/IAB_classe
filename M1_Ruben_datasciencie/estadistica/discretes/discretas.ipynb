{
 "cells": [
  {
   "cell_type": "markdown",
   "metadata": {},
   "source": [
    "## Ejercicio 1\n",
    "Una empresa de tecnología quiere modelar la probabilidad de que ocurra una cierta cantidad de fallas en la red en una semana determinada. Suponga que se sabe que se producen un promedio de 4 fallas de red cada semana. Sea X el número de fallos de red en una semana determinada. ¿Qué tipo de distribución sigue la variable aleatoria X ?\n",
    "\n",
    "Tyler hace el 70% de todos los tiros libres que intenta. Supongamos que lanza 10 tiros libres. Sea X el número de veces que Tyler hace una canasta durante los 10 intentos. ¿Qué tipo de distribución sigue la variable aleatoria X ?"
   ]
  },
  {
   "cell_type": "markdown",
   "metadata": {},
   "source": [
    "## Ejercicio 2\n",
    "\n",
    "Me gusta ir al casino, voy semanalmente y me juego 10€ al número 11 durante 100 tiradas (1000€ al dia, nada mal).\n",
    "\n",
    "A final de año (52 semanas) cuanto dinero he ganado/perdido, si cada vez que me toca gano 360€\n",
    "\n",
    "Si algún dia voy y vuelvo con las manos vacías (no me toca ni una vez) puedo tener un problema grave en casa, ¿Cual és la probabilidad de que eso suceda?"
   ]
  },
  {
   "cell_type": "markdown",
   "metadata": {},
   "source": [
    "## Ejercicio 3\n",
    "Si el número de coches que lleguan a un estacionamiento es de 8 por hora\n",
    "\n",
    "1.-¿Cuál es la probabilidad de que en un período de 10 minutos lleguen al estacionamiento?\n",
    "\n",
    "a) Más de 2 automóviles? b) Entre 3 y 6 (inclusive) automóviles? c) Si llegan más de 20 en 2h tenemos aforo lleno, que probabilidad hay que eso suceda."
   ]
  },
  {
   "cell_type": "markdown",
   "metadata": {},
   "source": [
    "## Ejercicio 4\n",
    "\n",
    "Sólo el 20% de los empleados son civiles en una base militar. Si 10 empleados de la base llegan, ¿Cual es la probabilidad que el guardia encuentre:\n",
    "\n",
    "a) Entre 4 y 7 empleados; inclusive que sean civiles b) 8 empleados civiles c) Menos de 2 y más de 7 sean civiles."
   ]
  }
 ],
 "metadata": {
  "language_info": {
   "name": "python"
  }
 },
 "nbformat": 4,
 "nbformat_minor": 2
}
