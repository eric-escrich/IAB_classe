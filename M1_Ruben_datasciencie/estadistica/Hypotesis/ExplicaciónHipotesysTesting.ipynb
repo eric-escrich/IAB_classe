{
  "nbformat": 4,
  "nbformat_minor": 0,
  "metadata": {
    "colab": {
      "provenance": []
    },
    "kernelspec": {
      "name": "python3",
      "display_name": "Python 3"
    },
    "language_info": {
      "name": "python"
    }
  },
  "cells": [
    {
      "cell_type": "markdown",
      "source": [
        "## Test de Una muestra (comparamos una muestra con un valor determinado)"
      ],
      "metadata": {
        "id": "ayimSPfaaAox"
      }
    },
    {
      "cell_type": "code",
      "execution_count": null,
      "metadata": {
        "id": "naxaHkT6Z5JT"
      },
      "outputs": [],
      "source": [
        "import pandas as pd\n",
        "#Leemos el dataset\n",
        "\n",
        "data = pd.read_feather('late_shipments.feather')\n",
        "\n",
        "data.head()"
      ]
    },
    {
      "cell_type": "code",
      "source": [
        "#obtenemos el peso medio (weight_kilograms)\n",
        "\n",
        "meanWeight = data['weight_kilograms'].mean()\n",
        "\n",
        "print(meanWeight)"
      ],
      "metadata": {
        "colab": {
          "base_uri": "https://localhost:8080/"
        },
        "id": "SgJw6LrtaAMd",
        "outputId": "8a111443-a42c-4f3a-ee7d-6b2bc09c9353"
      },
      "execution_count": null,
      "outputs": [
        {
          "output_type": "stream",
          "name": "stdout",
          "text": [
            "1947.682\n"
          ]
        }
      ]
    },
    {
      "cell_type": "markdown",
      "source": [
        "Cuando cree la empresa hice un estudio de negocio para ver la viabilidad económica de mi empresa de envios dando por hecho que el peso medio de mis pedidos a transportar seria de 2T. ¿Me equivoqué al hacer esa previsión?"
      ],
      "metadata": {
        "id": "x8lQugWebQNr"
      }
    },
    {
      "cell_type": "code",
      "source": [
        "! pip install pingouin"
      ],
      "metadata": {
        "id": "OyJHtGEMcgJj"
      },
      "execution_count": null,
      "outputs": []
    },
    {
      "cell_type": "code",
      "source": [
        "df[]"
      ],
      "metadata": {
        "id": "nvRMwlGsZ-pf"
      },
      "execution_count": null,
      "outputs": []
    },
    {
      "cell_type": "code",
      "source": [
        "# Realizamos un test de hipotesis\n",
        "# Ho: meanWeigth = 2T\n",
        "# H1: meanWeigth != 2T\n",
        "\n",
        "import pingouin as pg\n",
        "\n",
        "test_result = pg.ttest(data['weight_kilograms'],2200, alternative='two-sided')\n",
        "\n",
        "print(test_result)"
      ],
      "metadata": {
        "colab": {
          "base_uri": "https://localhost:8080/"
        },
        "id": "4_vMdFxUcHZL",
        "outputId": "fdcf936b-29bb-45d6-8423-6dff1b426f3d"
      },
      "execution_count": null,
      "outputs": [
        {
          "output_type": "stream",
          "name": "stdout",
          "text": [
            "               T  dof alternative     p-val           CI95%   cohen-d   BF10  \\\n",
            "T-test -2.552994  999        less  0.005414  [-inf, 2110.4]  0.080733  1.817   \n",
            "\n",
            "           power  \n",
            "T-test  0.817641  \n"
          ]
        }
      ]
    },
    {
      "cell_type": "markdown",
      "source": [
        "# Comparación de dos muestras"
      ],
      "metadata": {
        "id": "pr2QYuZ6fXjT"
      }
    },
    {
      "cell_type": "markdown",
      "source": [
        "Creemos que el peso del paquete puede influir en si llega tarde o no. Puede tener sentido que los màs pesados llegen tarde"
      ],
      "metadata": {
        "id": "SRKXrsJgfgC8"
      }
    },
    {
      "cell_type": "code",
      "source": [
        "weightLate = data[data['late']=='Yes']['weight_kilograms']\n",
        "weightNoLate = data[data['late']=='No']['weight_kilograms']\n",
        "\n",
        "print(weightLate.mean())\n",
        "print(weightNoLate.mean())"
      ],
      "metadata": {
        "colab": {
          "base_uri": "https://localhost:8080/"
        },
        "id": "DWH1AW7Kfq-k",
        "outputId": "6341d7ff-86ab-41bb-c34e-61f8c00ded6f"
      },
      "execution_count": null,
      "outputs": [
        {
          "output_type": "stream",
          "name": "stdout",
          "text": [
            "2715.6721311475408\n",
            "1897.7912673056444\n"
          ]
        }
      ]
    },
    {
      "cell_type": "code",
      "source": [
        "#Hago mi test de hipotesis\n",
        "# Ho: PesoLate = PesoNoLate X\n",
        "# H1: PesoLate > PesoNoLate (OK)\n",
        "\n",
        "test_result = pg.ttest(weightLate,weightNoLate, alternative='greater')\n",
        "\n",
        "print(test_result)"
      ],
      "metadata": {
        "colab": {
          "base_uri": "https://localhost:8080/"
        },
        "id": "s1BaiwwpgP_F",
        "outputId": "7830f380-84a6-4949-ad0b-68d1bc21bcd6"
      },
      "execution_count": null,
      "outputs": [
        {
          "output_type": "stream",
          "name": "stdout",
          "text": [
            "               T        dof alternative     p-val          CI95%   cohen-d  \\\n",
            "T-test  2.393666  72.527359     greater  0.009635  [248.59, inf]  0.262077   \n",
            "\n",
            "        BF10     power  \n",
            "T-test  4.29  0.632045  \n"
          ]
        }
      ]
    },
    {
      "cell_type": "markdown",
      "source": [
        "## TEST ANOVA (cuando hay varias categorias a valorar)"
      ],
      "metadata": {
        "id": "QN4XFqbBhsO2"
      }
    },
    {
      "cell_type": "markdown",
      "source": [
        "Creemos que hay diferencias entre el peso de los paquetes en función del transporte. Voy a analizarlo:"
      ],
      "metadata": {
        "id": "k3V-qAT2h6Jk"
      }
    },
    {
      "cell_type": "code",
      "source": [
        "print(data.groupby('shipment_mode')['weight_kilograms'].mean())"
      ],
      "metadata": {
        "colab": {
          "base_uri": "https://localhost:8080/"
        },
        "id": "khZc2Og2iU6T",
        "outputId": "c23184b4-de38-490e-bcf7-dac393fcdfbd"
      },
      "execution_count": null,
      "outputs": [
        {
          "output_type": "stream",
          "name": "stdout",
          "text": [
            "shipment_mode\n",
            "Air            1521.778146\n",
            "Air Charter    2823.500000\n",
            "Ocean          6272.840909\n",
            "Name: weight_kilograms, dtype: float64\n"
          ]
        }
      ]
    },
    {
      "cell_type": "code",
      "source": [
        "# Ho: El peso entre los diferentes transportes es el mismo X\n",
        "# H1: El peso entre los diferentes transportes es diferente OK\n",
        "\n",
        "anova_result = pg.anova(data=data,dv='weight_kilograms',between='shipment_mode')\n",
        "\n",
        "print(anova_result)\n"
      ],
      "metadata": {
        "colab": {
          "base_uri": "https://localhost:8080/"
        },
        "id": "jEqFj6CkhXxu",
        "outputId": "8978fb64-fc98-4426-8d15-89a70b97240b"
      },
      "execution_count": null,
      "outputs": [
        {
          "output_type": "stream",
          "name": "stdout",
          "text": [
            "          Source  ddof1  ddof2           F         p-unc       np2\n",
            "0  shipment_mode      2    997  113.920752  2.765091e-45  0.186017\n"
          ]
        }
      ]
    },
    {
      "cell_type": "code",
      "source": [
        "# Hacemos ttest entre todas las combinaciones de categorias posibles\n",
        "pairwise_result = pg.pairwise_tests(data=data,dv='weight_kilograms',between='shipment_mode')\n",
        "\n",
        "print(pairwise_result)"
      ],
      "metadata": {
        "colab": {
          "base_uri": "https://localhost:8080/"
        },
        "id": "s3oJiqs0jPXG",
        "outputId": "3842d919-3168-457d-8f38-c73ebc5911de"
      },
      "execution_count": null,
      "outputs": [
        {
          "output_type": "stream",
          "name": "stdout",
          "text": [
            "        Contrast            A            B  Paired  Parametric         T  \\\n",
            "0  shipment_mode          Air  Air Charter   False        True -1.683731   \n",
            "1  shipment_mode          Air        Ocean   False        True -9.013237   \n",
            "2  shipment_mode  Air Charter        Ocean   False        True -3.716732   \n",
            "\n",
            "         dof alternative         p-unc       BF10    hedges  \n",
            "0   5.121589   two-sided  1.516616e-01      1.048 -0.512097  \n",
            "1  91.642098   two-sided  2.805384e-14  3.965e+15 -1.679632  \n",
            "2  10.507752   two-sided  3.673659e-03     62.766 -0.717724  \n"
          ]
        }
      ]
    }
  ]
}