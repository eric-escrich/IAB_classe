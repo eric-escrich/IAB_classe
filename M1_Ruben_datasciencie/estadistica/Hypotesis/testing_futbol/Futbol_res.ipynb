{
  "cells": [
    {
      "cell_type": "code",
      "execution_count": 19,
      "metadata": {
        "id": "UHRGk0_xmyBe",
        "colab": {
          "base_uri": "https://localhost:8080/"
        },
        "outputId": "cc9b2fb3-83e4-465b-bad4-aab9a328048d"
      },
      "outputs": [
        {
          "output_type": "execute_result",
          "data": {
            "text/plain": [
              "384"
            ]
          },
          "metadata": {},
          "execution_count": 19
        }
      ],
      "source": [
        "#Importar datasets\n",
        "import pandas as pd\n",
        "\n",
        "df_men = pd.read_csv('men_results.csv')\n",
        "df_women = pd.read_csv('women_results.csv')\n",
        "\n",
        "df_men['date'] = pd.to_datetime(df_men['date'])\n",
        "\n",
        "\n",
        "df_men = df_men[(df_men['date'].dt.year >= 2000) & (df_men['tournament']== 'FIFA World Cup')]\n",
        "\n",
        "print(df_men['tournament'].shape[0])"
      ]
    },
    {
      "cell_type": "code",
      "source": [
        "df_women['date'] = pd.to_datetime(df_women['date'])\n",
        "\n",
        "\n",
        "df_women = df_women[(df_women['date'].dt.year >= 2000) & (df_women['tournament']== 'FIFA World Cup')]\n",
        "\n",
        "df_women['tournament'].unique()\n",
        "\n",
        "print(df_women['tournament'].shape[0])"
      ],
      "metadata": {
        "colab": {
          "base_uri": "https://localhost:8080/"
        },
        "id": "23cWSW6mFqFP",
        "outputId": "3c6b48e5-c78f-4b4f-9278-e419ed20c3ae"
      },
      "execution_count": 20,
      "outputs": [
        {
          "output_type": "stream",
          "name": "stdout",
          "text": [
            "200\n"
          ]
        }
      ]
    },
    {
      "cell_type": "markdown",
      "metadata": {
        "id": "PRBTuiS_rhpO"
      },
      "source": [
        "¿Se marcan más goles en los partidos internacionales de fútbol femenino que en los masculinos (a partir de 2000)?\n",
        "\n",
        "Se supone un nivel de significancia del 10%"
      ]
    },
    {
      "cell_type": "code",
      "execution_count": 24,
      "metadata": {
        "colab": {
          "base_uri": "https://localhost:8080/"
        },
        "id": "pgl27bJBnRe9",
        "outputId": "3767e497-01b4-46ba-db73-fe6bf558dde5"
      },
      "outputs": [
        {
          "output_type": "stream",
          "name": "stdout",
          "text": [
            "2.5130208333333335\n",
            "2.98\n"
          ]
        }
      ],
      "source": [
        "df_men['goals'] = df_men['home_score'] + df_men['away_score']\n",
        "df_women['goals'] = df_women['home_score'] + df_women['away_score']\n",
        "\n",
        "print(df_men['goals'].mean())\n",
        "print(df_women['goals'].mean())\n"
      ]
    },
    {
      "cell_type": "code",
      "execution_count": 28,
      "metadata": {
        "colab": {
          "base_uri": "https://localhost:8080/",
          "height": 448
        },
        "id": "CYeqzD0bJXsE",
        "outputId": "017b762c-d7d2-4516-91dd-eaf142201569"
      },
      "outputs": [
        {
          "output_type": "execute_result",
          "data": {
            "text/plain": [
              "<matplotlib.lines.Line2D at 0x787a618de490>"
            ]
          },
          "metadata": {},
          "execution_count": 28
        },
        {
          "output_type": "display_data",
          "data": {
            "text/plain": [
              "<Figure size 640x480 with 1 Axes>"
            ],
            "image/png": "[encoded data removed]"
          },
          "metadata": {}
        }
      ],
      "source": [
        "import matplotlib.pyplot as plt\n",
        "\n",
        "# Continuando con el DataFrame filtrado previamente\n",
        "# Nota: Usaremos el DataFrame 'df_man_filtrado' que ya filtramos para partidos después del año 2000 en la Copa Mundial de la FIFA\n",
        "\n",
        "# Calculamos la media de 'total_goals' nuevamente\n",
        "\n",
        "\n",
        "# Creando un histograma para 'total_goals' en el DataFrame filtrado\n",
        "\n",
        "\n",
        "# Agregando títulos y etiquetas\n",
        "\n",
        "\n",
        "# Mostrar la media en el gráfico\n",
        "\n",
        "\n",
        "# Mostrar el histograma\n",
        "df_men['goals'].hist(bins=5)\n",
        "plt.axvline(df_men['goals'].mean(), color='k', linestyle='dashed', linewidth=1)\n",
        "plt.axvline(df_women['goals'].mean(), color='r', linestyle='dashed', linewidth=1)\n"
      ]
    },
    {
      "cell_type": "code",
      "source": [
        "! pip install pingouin"
      ],
      "metadata": {
        "colab": {
          "base_uri": "https://localhost:8080/"
        },
        "collapsed": true,
        "id": "73j0MH1mIlKw",
        "outputId": "9a39bf25-6dfb-47c8-8ae2-3f41682963ec"
      },
      "execution_count": 29,
      "outputs": [
        {
          "output_type": "stream",
          "name": "stdout",
          "text": [
            "Collecting pingouin\n",
            "  Downloading pingouin-0.5.5-py3-none-any.whl.metadata (19 kB)\n",
            "Requirement already satisfied: matplotlib in /usr/local/lib/python3.11/dist-packages (from pingouin) (3.10.0)\n",
            "Requirement already satisfied: numpy in /usr/local/lib/python3.11/dist-packages (from pingouin) (1.26.4)\n",
            "Requirement already satisfied: pandas>=1.5 in /usr/local/lib/python3.11/dist-packages (from pingouin) (2.2.2)\n",
            "Collecting pandas-flavor (from pingouin)\n",
            "  Downloading pandas_flavor-0.6.0-py3-none-any.whl.metadata (6.3 kB)\n",
            "Requirement already satisfied: scikit-learn>=1.2 in /usr/local/lib/python3.11/dist-packages (from pingouin) (1.6.1)\n",
            "Requirement already satisfied: scipy in /usr/local/lib/python3.11/dist-packages (from pingouin) (1.13.1)\n",
            "Requirement already satisfied: seaborn in /usr/local/lib/python3.11/dist-packages (from pingouin) (0.13.2)\n",
            "Requirement already satisfied: statsmodels in /usr/local/lib/python3.11/dist-packages (from pingouin) (0.14.4)\n",
            "Requirement already satisfied: tabulate in /usr/local/lib/python3.11/dist-packages (from pingouin) (0.9.0)\n",
            "Requirement already satisfied: python-dateutil>=2.8.2 in /usr/local/lib/python3.11/dist-packages (from pandas>=1.5->pingouin) (2.8.2)\n",
            "Requirement already satisfied: pytz>=2020.1 in /usr/local/lib/python3.11/dist-packages (from pandas>=1.5->pingouin) (2024.2)\n",
            "Requirement already satisfied: tzdata>=2022.7 in /usr/local/lib/python3.11/dist-packages (from pandas>=1.5->pingouin) (2025.1)\n",
            "Requirement already satisfied: joblib>=1.2.0 in /usr/local/lib/python3.11/dist-packages (from scikit-learn>=1.2->pingouin) (1.4.2)\n",
            "Requirement already satisfied: threadpoolctl>=3.1.0 in /usr/local/lib/python3.11/dist-packages (from scikit-learn>=1.2->pingouin) (3.5.0)\n",
            "Requirement already satisfied: contourpy>=1.0.1 in /usr/local/lib/python3.11/dist-packages (from matplotlib->pingouin) (1.3.1)\n",
            "Requirement already satisfied: cycler>=0.10 in /usr/local/lib/python3.11/dist-packages (from matplotlib->pingouin) (0.12.1)\n",
            "Requirement already satisfied: fonttools>=4.22.0 in /usr/local/lib/python3.11/dist-packages (from matplotlib->pingouin) (4.55.5)\n",
            "Requirement already satisfied: kiwisolver>=1.3.1 in /usr/local/lib/python3.11/dist-packages (from matplotlib->pingouin) (1.4.8)\n",
            "Requirement already satisfied: packaging>=20.0 in /usr/local/lib/python3.11/dist-packages (from matplotlib->pingouin) (24.2)\n",
            "Requirement already satisfied: pillow>=8 in /usr/local/lib/python3.11/dist-packages (from matplotlib->pingouin) (11.1.0)\n",
            "Requirement already satisfied: pyparsing>=2.3.1 in /usr/local/lib/python3.11/dist-packages (from matplotlib->pingouin) (3.2.1)\n",
            "Requirement already satisfied: xarray in /usr/local/lib/python3.11/dist-packages (from pandas-flavor->pingouin) (2025.1.1)\n",
            "Requirement already satisfied: patsy>=0.5.6 in /usr/local/lib/python3.11/dist-packages (from statsmodels->pingouin) (1.0.1)\n",
            "Requirement already satisfied: six>=1.5 in /usr/local/lib/python3.11/dist-packages (from python-dateutil>=2.8.2->pandas>=1.5->pingouin) (1.17.0)\n",
            "Downloading pingouin-0.5.5-py3-none-any.whl (204 kB)\n",
            "\u001b[2K   \u001b[90m━━━━━━━━━━━━━━━━━━━━━━━━━━━━━━━━━━━━━━━━\u001b[0m \u001b[32m204.4/204.4 kB\u001b[0m \u001b[31m4.6 MB/s\u001b[0m eta \u001b[36m0:00:00\u001b[0m\n",
            "\u001b[?25hDownloading pandas_flavor-0.6.0-py3-none-any.whl (7.2 kB)\n",
            "Installing collected packages: pandas-flavor, pingouin\n",
            "Successfully installed pandas-flavor-0.6.0 pingouin-0.5.5\n"
          ]
        }
      ]
    },
    {
      "cell_type": "code",
      "execution_count": 30,
      "metadata": {
        "colab": {
          "base_uri": "https://localhost:8080/"
        },
        "id": "Sju99Uz7KhSe",
        "outputId": "2a085024-770e-41be-fb4d-427c30a4e57d"
      },
      "outputs": [
        {
          "output_type": "stream",
          "name": "stdout",
          "text": [
            "               T         dof alternative     p-val  \\\n",
            "T-test  2.812823  340.102801     greater  0.002598   \n",
            "\n",
            "                             CI90%   cohen-d   BF10     power  \n",
            "T-test  [0.25380448523145904, inf]  0.261228  8.927  0.911063  \n"
          ]
        }
      ],
      "source": [
        "#Hipotesis\n",
        "#H0=media_goles_mujeres = media_goles_hombres (nula)\n",
        "#H1=media_goles_mujeres > media_goles_hombres\n",
        "\n",
        "from pingouin import ttest\n",
        "\n",
        "res = ttest(df_women['goals'],df_men['goals'],alternative='greater',confidence=0.90)\n",
        "\n",
        "print(res)\n"
      ]
    },
    {
      "cell_type": "markdown",
      "metadata": {
        "id": "tzERAk6hNVIs"
      },
      "source": [
        "Dado que la p-val es inferior al 0.05 podemos rechazar la hipotesis nula."
      ]
    }
  ],
  "metadata": {
    "colab": {
      "provenance": []
    },
    "kernelspec": {
      "display_name": "Python 3",
      "name": "python3"
    },
    "language_info": {
      "codemirror_mode": {
        "name": "ipython",
        "version": 3
      },
      "file_extension": ".py",
      "mimetype": "text/x-python",
      "name": "python",
      "nbconvert_exporter": "python",
      "pygments_lexer": "ipython3",
      "version": "3.11.5"
    }
  },
  "nbformat": 4,
  "nbformat_minor": 0
}