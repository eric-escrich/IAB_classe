{
  "nbformat": 4,
  "nbformat_minor": 0,
  "metadata": {
    "colab": {
      "provenance": []
    },
    "kernelspec": {
      "name": "python3",
      "display_name": "Python 3"
    },
    "language_info": {
      "name": "python"
    }
  },
  "cells": [
    {
      "cell_type": "markdown",
      "source": [
        "\n",
        "X\n",
        "X representa una medida de la inteligencia mediante pruebas que se aplican en la determinación del coeftciente intelectual (CI). Si\n",
        "\n",
        "X\n",
        "X está distribuida normal con media 100 y desviación 10. Calcular:\n",
        "\n",
        "La probabilidad de que X sea mayor que 100.\n",
        "La probabilidad de que X sea menor que 85.\n",
        "La probabilidad de que X sea a lo sumo 112.\n",
        "La probabilidad de que X sea al menos 108.\n",
        "La probabilidad de que X sea mayor que 90.\n",
        "La probabilidad de que se encuentre entre 95 y 120."
      ],
      "metadata": {
        "id": "aclsHkxgJX6E"
      }
    },
    {
      "cell_type": "code",
      "source": [
        "from scipy.stats import norm\n",
        "media = 100\n",
        "dt= 10\n",
        "\n",
        "probMayor100 = 1- norm.cdf(100,100,10)\n",
        "print(probMayor100)\n",
        "\n",
        "probMenor85 = norm.cdf(85,100,10)\n",
        "\n",
        "probMenor112 = norm.cdf(112,100,10)\n",
        "\n",
        "probMas108 = 1-norm.cdf(108,100,10)\n",
        "\n",
        "probMas90 = 1-norm.cdf(90,100,10)\n",
        "\n",
        "probentre120_95 = norm.cdf(120,100,10) - norm.cdf(95,100,10)\n",
        "\n",
        "\n",
        "\n",
        "\n"
      ],
      "metadata": {
        "id": "0DDJrH-AJcAp"
      },
      "execution_count": null,
      "outputs": []
    },
    {
      "cell_type": "markdown",
      "source": [
        "El tiempo necesario para completar un examen de aptitud en universidades se encuentra normalmente\n",
        "distribuido con media de 70 minutos y desviación estándar de 12 minutos. ¿Cuánto debe durar el examen si deseamos que 90% de los estudiantes tenga suficiente tiempo para completarlo?"
      ],
      "metadata": {
        "id": "I19WboVvMHJK"
      }
    },
    {
      "cell_type": "code",
      "source": [
        "media = 70\n",
        "dt= 12\n",
        "\n",
        "valor90 = norm.ppf(0.975,70,12)\n",
        "\n",
        "print(valor90)\n"
      ],
      "metadata": {
        "id": "6saBA-PsMLAQ",
        "outputId": "0bd319cf-30d9-4f2b-d6cf-076e673fca8f",
        "colab": {
          "base_uri": "https://localhost:8080/"
        }
      },
      "execution_count": 7,
      "outputs": [
        {
          "output_type": "stream",
          "name": "stdout",
          "text": [
            "93.51956781448065\n"
          ]
        }
      ]
    }
  ]
}